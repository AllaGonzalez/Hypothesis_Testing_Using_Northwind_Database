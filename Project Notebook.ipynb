{
 "cells": [
  {
   "cell_type": "markdown",
   "metadata": {},
   "source": [
    "# Hypothesis Testing Using Northwind Database\n",
    "\n",
    "\n",
    "\n",
    "\n",
    "In this research we will use Northwind Database to test hypothesis through experimental design.\n",
    "\n",
    "\n",
    "## The Scientific Method And Experimental Design\n",
    "\n",
    "<img src='The+Scientific+Method.jpg' height=70% width=70%>\n",
    "\n",
    "Here's is the general structure of experimental design:\n",
    "\n",
    "**1. Make an observation**\n",
    "\n",
    "* Observe a phenomenon and formulate a question we want to test.\n",
    "\n",
    "**2. Examine the research**\n",
    "\n",
    "* Find out if there is an existing research that answers our question.\n",
    "* *For the purposes of this project, we are going to skip this step.*\n",
    "\n",
    "**3. Form a hypothesis**\n",
    "\n",
    "* Formulate an Alternative Hypothesis (our educated guess to the test question) and a Null Hypothesis (the opposite to the Alternative Hypothesis).\n",
    "\n",
    "**4. Conduct an experiment**\n",
    "\n",
    "* Account for mistakes and randomness and run a well-structured experiment\n",
    "\n",
    "**5. Analyze experimental results**\n",
    "\n",
    "* Define if the outcomes of our experiment are statistically significant.\n",
    "\n",
    "**6. Draw conclusions**\n",
    "\n",
    "* Based on the findings and analysis of our experiment, either reject the Null Hypothesis or fail to reject the Null Hypothesis.\n",
    "\n",
    "\n",
    "## Northwind Database\n",
    "\n",
    "For this research, we will be using the Northwind Traders database. The database features a fictionary company, and was created in 2000 by Microsoft to demonstrate their SQL Server technology. \n",
    "\n",
    "<img src='Northwind_ERD.png' height=100% width=100%>\n",
    "\n",
    "## Make An Observation\n",
    "\n",
    "To formulate our hypothesis, we first need to take a closer look into the data contained in the Northwind database and make general observations."
   ]
  },
  {
   "cell_type": "code",
   "execution_count": null,
   "metadata": {},
   "outputs": [],
   "source": [
    "#import the necessary libraries\n",
    "import pandas as pd\n",
    "import sqlalchemy\n",
    "from sqlalchemy import create_engine\n",
    "from sqlalchemy.orm import Session, sessionmaker\n",
    "from sqlalchemy import inspect\n",
    "\n",
    "#connect to the database and check whether the table names correspond to the picture above\n",
    "engine = create_engine(\"sqlite:///Northwind_small.sqlite\", echo=True)\n",
    "Session = sessionmaker(bind=engine)\n",
    "session = Session()\n",
    "inspector = inspect(engine)\n",
    "print(inspector.get_table_names())"
   ]
  },
  {
   "cell_type": "markdown",
   "metadata": {},
   "source": [
    "Now let's take a closer look at each table to gain a better understanding of the Northwind Traders company."
   ]
  },
  {
   "cell_type": "code",
   "execution_count": null,
   "metadata": {},
   "outputs": [],
   "source": [
    "#find out how many employees work for the company\n",
    "df = pd.read_sql_query('''SELECT * FROM Employee''', engine)\n",
    "df"
   ]
  },
  {
   "cell_type": "code",
   "execution_count": null,
   "metadata": {},
   "outputs": [],
   "source": [
    "#find out how many customers the company works with\n",
    "df = pd.read_sql_query('''SELECT * FROM Customer''', engine)\n",
    "df.tail()"
   ]
  },
  {
   "cell_type": "code",
   "execution_count": null,
   "metadata": {},
   "outputs": [],
   "source": [
    "#check the number of orders the company has processed\n",
    "df = pd.read_sql_query('''SELECT * FROM [Order] ORDER BY ID DESC LIMIT 5''', engine)\n",
    "df"
   ]
  },
  {
   "cell_type": "code",
   "execution_count": null,
   "metadata": {},
   "outputs": [],
   "source": [
    "#understand the type of goods that the company works with\n",
    "df = pd.read_sql_query('''SELECT * FROM Category''', engine)\n",
    "df"
   ]
  },
  {
   "cell_type": "code",
   "execution_count": null,
   "metadata": {},
   "outputs": [],
   "source": [
    "#see what products the company operates with \n",
    "df = pd.read_sql_query('''SELECT * FROM Product''', engine)\n",
    "df"
   ]
  },
  {
   "cell_type": "code",
   "execution_count": null,
   "metadata": {},
   "outputs": [],
   "source": [
    "#identify the suppliers the company works with\n",
    "df = pd.read_sql_query('''SELECT * FROM Supplier''', engine)\n",
    "df"
   ]
  },
  {
   "cell_type": "code",
   "execution_count": null,
   "metadata": {},
   "outputs": [],
   "source": [
    "#check how many shippers the company has\n",
    "df = pd.read_sql_query('''SELECT * FROM Shipper''', engine)\n",
    "df"
   ]
  },
  {
   "cell_type": "code",
   "execution_count": null,
   "metadata": {},
   "outputs": [],
   "source": [
    "#determine if the company offers any discounts\n",
    "df = pd.read_sql_query('''SELECT DISTINCT Discount FROM OrderDetail''', engine)\n",
    "df"
   ]
  },
  {
   "cell_type": "markdown",
   "metadata": {},
   "source": [
    "**Findings:**\n",
    "* Northwind Traders is a company that employs 9 people in the US and UK.\n",
    "* They offer 77 food products in 8 categories.\n",
    "* The company works with 29 suppliers worldwide and ships to 88 customers worldwide using the services of 3 shipper companies.\n",
    "* Nothwind Traders processed 11,077 orders.\n",
    "* They offer 10 discount categories.\n",
    "\n",
    "## Forming A Hypothesis\n",
    "\n",
    "Based on observations of the Northwind Traders database, we will perform 4 tests to validate the following hypotheses:\n",
    "\n",
    "**Test 1**\n",
    "\n",
    "Does discount amount have a statistically significant effect on the quantity of a product in an order? If so, at what level(s) of discount?\n",
    "\n",
    "> $H_{0}$: *Discount amount does not have a statistically significant effect on the quantity of a product in an order.* \n",
    "\n",
    "> $H_{1}$: *Discount amount has a statistically significant effect on the quantity of a product in an order.*\n",
    "\n",
    "**Test 2**\n",
    "\n",
    "Is the amount of money spent by customers gender-related? Do women spend more money than men?\n",
    "\n",
    "> $H_{0}$: *Male customers spend more money than female customers.* \n",
    "\n",
    "> $H_{1}$: *Female customers spend more money than male customers.*\n",
    "\n",
    "**Test 3**\n",
    "\n",
    "Is it more profitable for the company to sell to domestic or international customers?\n",
    "\n",
    "> $H_{0}$: *Domestic customers are more profitable for the company.* \n",
    "\n",
    "> $H_{1}$: *International customers are more profitable for the company.*\n",
    "\n",
    "**Test 4**\n",
    "\n",
    "Is it more profitable for the company to work with domestic or international suppliers?\n",
    "\n",
    "> $H_{0}$: *Domestic suppliers are more profitable for the company.* \n",
    "\n",
    "> $H_{1}$: *International suppliers are more profitable for the company.*\n",
    "\n",
    "## Conducting Experiments And Analyzing Experimental Results\n",
    "\n",
    "### Test 1\n",
    "\n",
    "Our first question is whether the discount amount has a statistically significant effect on the quantity of a product in an order. If so, at what level(s) of discount?\n",
    "\n",
    "> $H_{0}$: *Discount amount does not have a statistically significant effect on the quantity of a product in an order.* \n",
    "\n",
    "> $H_{1}$: *Discount amount has a statistically significant effect on the quantity of a product in an order.*"
   ]
  },
  {
   "cell_type": "code",
   "execution_count": null,
   "metadata": {},
   "outputs": [],
   "source": [
    "#review the table that contains order discount\n",
    "df1 = pd.read_sql_query('''SELECT * FROM OrderDetail''', engine)\n",
    "print('\\nTable info')\n",
    "df1.info()\n",
    "print('\\nSample data')\n",
    "df1.head()"
   ]
  },
  {
   "cell_type": "code",
   "execution_count": null,
   "metadata": {},
   "outputs": [],
   "source": [
    "#find out how many products were sold at what discount\n",
    "df1.Discount.value_counts()"
   ]
  },
  {
   "cell_type": "markdown",
   "metadata": {},
   "source": [
    "Since 1%, 2%, 3%, 4% and 6% discount only occurred in 8 cases, we'll drop those rows and continue working with products sold at no discount or at a discount of 5%, 10%, 15%, 20%, 25%."
   ]
  },
  {
   "cell_type": "code",
   "execution_count": null,
   "metadata": {},
   "outputs": [],
   "source": [
    "#drop the lines with rarely occurring discount\n",
    "df1_test = df1.drop(df1[(df1['Discount'] == 0.01) | (df1['Discount'] == 0.02) | (df1['Discount'] == 0.03) | (df1['Discount'] == 0.04) | (df1['Discount'] == 0.06)].index)\n",
    "df1_test.Discount.value_counts()"
   ]
  },
  {
   "cell_type": "code",
   "execution_count": null,
   "metadata": {},
   "outputs": [],
   "source": [
    "df1_test.Discount.hist(figsize=(5,3));"
   ]
  },
  {
   "cell_type": "code",
   "execution_count": null,
   "metadata": {},
   "outputs": [],
   "source": [
    "df1_test.hist('Quantity', by = 'Discount', figsize=(7,7));"
   ]
  },
  {
   "cell_type": "markdown",
   "metadata": {},
   "source": [
    "As we have 6 groups, we'll proceed with selecting ANOVA test, because it explains the total variance as combination of variances from different groups. F-distribution will become our test statistic. We set our significance level at 0.05, so we reject the null hypothesis if F>Fa."
   ]
  },
  {
   "cell_type": "code",
   "execution_count": null,
   "metadata": {},
   "outputs": [],
   "source": [
    "#import the libraries and define ANOVA model\n",
    "import statsmodels.api as sm\n",
    "from statsmodels.formula.api import ols\n",
    "formula = 'Quantity ~ Discount'\n",
    "lm = ols(formula, df1_test).fit()\n",
    "table = sm.stats.anova_lm(lm, typ=2)\n",
    "print(table)"
   ]
  },
  {
   "cell_type": "markdown",
   "metadata": {},
   "source": [
    "Since our F value is higher than our alpha value, we can reject the null hypothesis. "
   ]
  },
  {
   "cell_type": "code",
   "execution_count": null,
   "metadata": {},
   "outputs": [],
   "source": [
    "#convert discount to dummy variables\n",
    "discount_dummies = pd.get_dummies(df1_test['Discount'], prefix='discount')\n",
    "df1_test = df1_test.drop(['Discount'], axis = 1)\n",
    "df1_test = pd.concat([df1_test, discount_dummies], axis=1)\n",
    "df1_test.head()"
   ]
  },
  {
   "cell_type": "code",
   "execution_count": null,
   "metadata": {},
   "outputs": [],
   "source": [
    "#convert new columns to categoric values\n",
    "df1_test['discount_0.0'] = df1_test['discount_0.0'].astype('category')\n",
    "df1_test['discount_0.05'] = df1_test['discount_0.05'].astype('category')\n",
    "df1_test['discount_0.1'] = df1_test['discount_0.1'].astype('category')\n",
    "df1_test['discount_0.15'] = df1_test['discount_0.15'].astype('category')\n",
    "df1_test['discount_0.2'] = df1_test['discount_0.2'].astype('category')\n",
    "df1_test['discount_0.25'] = df1_test['discount_0.25'].astype('category')"
   ]
  },
  {
   "cell_type": "markdown",
   "metadata": {},
   "source": [
    "Let's run ANOVA once again, now comparing various discount levels."
   ]
  },
  {
   "cell_type": "code",
   "execution_count": null,
   "metadata": {},
   "outputs": [],
   "source": [
    "formula = 'Quantity ~ C(discount_0.05) + C(discount_0.1) + C(discount_0.15) + C(discount_0.2) + C(discount_0.25)'\n",
    "lm = ols(formula, df1_test).fit()\n",
    "table = sm.stats.anova_lm(lm, typ=2)\n",
    "print(table)"
   ]
  },
  {
   "cell_type": "code",
   "execution_count": null,
   "metadata": {},
   "outputs": [],
   "source": []
  },
  {
   "cell_type": "markdown",
   "metadata": {},
   "source": [
    "## Drawing Conclusions\n",
    "\n",
    "\n",
    "\n",
    "Hypothesis\n",
    "Obtaining the data\n",
    "Test (Welch's T-test, one/two sample T-test, ANOVA)\n",
    "Test statistic (p value)\n",
    "Effect size\n",
    "Conclusions"
   ]
  }
 ],
 "metadata": {
  "kernelspec": {
   "display_name": "learn-env",
   "language": "python",
   "name": "learn-env"
  },
  "language_info": {
   "codemirror_mode": {
    "name": "ipython",
    "version": 3
   },
   "file_extension": ".py",
   "mimetype": "text/x-python",
   "name": "python",
   "nbconvert_exporter": "python",
   "pygments_lexer": "ipython3",
   "version": "3.6.6"
  }
 },
 "nbformat": 4,
 "nbformat_minor": 2
}
